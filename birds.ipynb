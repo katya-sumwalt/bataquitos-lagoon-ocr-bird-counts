{
 "cells": [
  {
   "cell_type": "code",
   "execution_count": null,
   "id": "1948df68",
   "metadata": {},
   "outputs": [
    {
     "name": "stdout",
     "output_type": "stream",
     "text": [
      "success\n"
     ]
    }
   ],
   "source": [
    "# import numpy as np\n",
    "# import matplotlib.pyplot as plt\n",
    "# import tensorflow as tf\n",
    "\n",
    "# mnist = tf.keras.datasets.mnist\n",
    "# (x_train, y_train), (x_test, y_test) = mnist.load_data()\n",
    "\n",
    "# x_train = tf.keras.utils.normalize(x_train,axis = 1) #normalizing training data\n",
    "# x_test = tf.keras.utils.normalize(x_test, axis = 1) #scaling to 1\n",
    "\n",
    "# model = tf.keras.models.Sequential()\n",
    "\n",
    "# model.add(tf.keras.layers.Flatten)\n",
    "\n",
    "import pytesseract\n",
    "import cv2\n",
    "import os\n",
    "\n",
    "# tesseract_path = r'C:\\Users\\alisa\\Documents\\tesseract'\n",
    "\n",
    "# if os.path.exists(os.path.join(tesseract_path, 'tesseract.exe')):\n",
    "#     pytesseract.pytesseract.tesseract_cmd = os.path.join(tesseract_path, 'tesseract.exe')\n",
    "# else:\n",
    "#     print(\"failed\")\n",
    "\n",
    "\n",
    "def ocr_and_save_translated(image_path):\n",
    "    img = cv2.imread(image_path)\n",
    "    if img is None:\n",
    "        print(f\"Error: no img\")\n",
    "        return\n",
    "    # greyscaleing the image\n",
    "    gray_img = cv2.cvtColor(img, cv2.COLOR_BGR2GRAY)\n",
    "    _, binary_img = cv2.threshold(gray_img, 150, 255, cv2.THRESH_BINARY)\n",
    "\n",
    "    text = pytesseract.image_to_string(binary_img)\n",
    "    \n",
    "    directory, filename = os.path.split(image_path)\n",
    "    base_name, extension = os.path.splitext(filename)\n",
    "    \n",
    "    new_filename = f\"{base_name}_translated.txt\"\n",
    "    directory = \"translated-img\" ##changing the file directory\n",
    "    new_file_path = os.path.join(directory , new_filename)\n",
    "    with open(new_file_path, \"w\", encoding=\"utf-8\") as file:\n",
    "        file.write(text)  # getting the text from the file\n",
    "    \n",
    "    print(\"success\")\n",
    "\n",
    "def main():\n",
    "    ocr_and_save_translated('bird-img/1.jpg')\n",
    "\n",
    "\n",
    "if __name__ == \"__main__\":\n",
    "    main()\n",
    "\n",
    "\n",
    "\n",
    "#install Pillow to handle images\n",
    "\n"
   ]
  }
 ],
 "metadata": {
  "kernelspec": {
   "display_name": "Python 3",
   "language": "python",
   "name": "python3"
  },
  "language_info": {
   "codemirror_mode": {
    "name": "ipython",
    "version": 3
   },
   "file_extension": ".py",
   "mimetype": "text/x-python",
   "name": "python",
   "nbconvert_exporter": "python",
   "pygments_lexer": "ipython3",
   "version": "3.11.5"
  }
 },
 "nbformat": 4,
 "nbformat_minor": 5
}
